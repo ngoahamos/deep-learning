{
 "cells": [
  {
   "cell_type": "code",
   "execution_count": 1,
   "id": "6334a795-e46f-412c-a87f-5db09b7edee1",
   "metadata": {},
   "outputs": [],
   "source": [
    "import tensorflow as tf\n",
    "from tensorflow import keras\n",
    "from tensorflow.keras.preprocessing.text import Tokenizer\n",
    "from tensorflow.keras.preprocessing.sequence import pad_sequences"
   ]
  },
  {
   "cell_type": "code",
   "execution_count": 2,
   "id": "39ec4684-acf1-40ae-80af-b24789190663",
   "metadata": {},
   "outputs": [
    {
     "name": "stdout",
     "output_type": "stream",
     "text": [
      "{'<OOV>': 1, 'today': 2, 'is': 3, 'a': 4, 'sunny': 5, 'day': 6, 'rainy': 7, 'it': 8, 'i': 9, 'really': 10, 'enjoyed': 11, 'walking': 12, 'in': 13, 'the': 14, 'snow': 15}\n",
      "[[ 0  0  0  2  3  4  5  6]\n",
      " [ 0  0  0  2  3  4  7  6]\n",
      " [ 0  0  0  0  3  8  5  2]\n",
      " [ 9 10 11 12 13 14 15  2]]\n"
     ]
    }
   ],
   "source": [
    "sentences = [\n",
    "'Today is a sunny day',\n",
    "'Today is a rainy day',\n",
    "'Is it sunny today?',\n",
    "'I really enjoyed walking in the snow today'\n",
    "]\n",
    "text_sentences = [\n",
    "    'Today is a snowy day',\n",
    "    'Will it be rainy tomorrow?'\n",
    "]\n",
    "tokenizer = Tokenizer(num_words = 100, oov_token='<OOV>')\n",
    "tokenizer.fit_on_texts(sentences)\n",
    "word_index = tokenizer.word_index\n",
    "print(word_index)\n",
    "sequences = tokenizer.texts_to_sequences(sentences)\n",
    "padded_sequences = pad_sequences(sequences)\n",
    "# text_sequences = tokenizer.texts_to_sequences(text_sentences)\n",
    "# print(sequences)\n",
    "# print(text_sequences)\n",
    "print(padded_sequences)"
   ]
  },
  {
   "cell_type": "code",
   "execution_count": null,
   "id": "1ac54151-4ec2-4790-9187-77e6ac4075e7",
   "metadata": {},
   "outputs": [],
   "source": []
  }
 ],
 "metadata": {
  "kernelspec": {
   "display_name": "Python 3 (ipykernel)",
   "language": "python",
   "name": "python3"
  },
  "language_info": {
   "codemirror_mode": {
    "name": "ipython",
    "version": 3
   },
   "file_extension": ".py",
   "mimetype": "text/x-python",
   "name": "python",
   "nbconvert_exporter": "python",
   "pygments_lexer": "ipython3",
   "version": "3.8.19"
  }
 },
 "nbformat": 4,
 "nbformat_minor": 5
}
